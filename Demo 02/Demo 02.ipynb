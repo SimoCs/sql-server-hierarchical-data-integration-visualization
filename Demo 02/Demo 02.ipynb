{
    "metadata": {
        "kernelspec": {
            "name": "python3",
            "display_name": "Python 3",
            "language": "python"
        },
        "language_info": {
            "name": "python",
            "version": "3.8.10",
            "mimetype": "text/x-python",
            "codemirror_mode": {
                "name": "ipython",
                "version": 3
            },
            "pygments_lexer": "ipython3",
            "nbconvert_exporter": "python",
            "file_extension": ".py"
        }
    },
    "nbformat_minor": 2,
    "nbformat": 4,
    "cells": [
        {
            "cell_type": "markdown",
            "source": [
                "# <span style=\"font-size: 28px;\"><b>Demo: Extract Hierarchical Data and Prepare It for Integration</b></span>"
            ],
            "metadata": {
                "language": "python",
                "azdata_cell_guid": "5836ec50-1649-4252-9b22-0416c935dc42"
            },
            "attachments": {}
        },
        {
            "cell_type": "markdown",
            "source": [
                "## **Step 1: Import Necessary Libraries**"
            ],
            "metadata": {
                "azdata_cell_guid": "07cae2f5-5878-4ac6-8009-80b7ff2e91c1"
            },
            "attachments": {}
        },
        {
            "cell_type": "code",
            "source": [
                "from sqlalchemy import create_engine\r\n",
                "\r\n",
                "import pandas as pd"
            ],
            "metadata": {
                "language": "python",
                "azdata_cell_guid": "184f06bb-ca6d-47c9-a379-6db5f8f319a5",
                "tags": []
            },
            "outputs": [],
            "execution_count": 77
        },
        {
            "cell_type": "markdown",
            "source": [
                "## **Step 2: Connect to SQL Server**"
            ],
            "metadata": {
                "azdata_cell_guid": "7de091d1-74ed-4dff-b9b9-9dd520f46c03"
            },
            "attachments": {}
        },
        {
            "cell_type": "code",
            "source": [
                "# Connection string components\r\n",
                "server = 'DESKTOP'      # Server name\r\n",
                "database = 'Products'   # Database name\r\n",
                "driver= 'SQL Server'                   \r\n",
                "\r\n",
                "# SQLAlchemy connection string\r\n",
                "connection_string = f'mssql+pyodbc://{server}/{database}?driver={driver}&trusted_connection=yes'\r\n",
                "\r\n",
                "# Create the engine\r\n",
                "engine = create_engine(connection_string)"
            ],
            "metadata": {
                "language": "python",
                "azdata_cell_guid": "c2259b71-72c3-473a-9036-b0e270747775"
            },
            "outputs": [],
            "execution_count": 78
        },
        {
            "cell_type": "markdown",
            "source": [
                "## **Step 3:  Loading Data from SQL Server**"
            ],
            "metadata": {
                "language": "python",
                "azdata_cell_guid": "3aec73b4-0982-4019-998b-320c474d83d6"
            },
            "attachments": {}
        },
        {
            "cell_type": "code",
            "source": [
                "# SQL query\r\n",
                "query = '''\r\n",
                "SELECT\r\n",
                "    product_category,\r\n",
                "    product_preference,\r\n",
                "    COUNT(*) AS preference_count\r\n",
                "FROM\r\n",
                "    [Products].[dbo].[ProductPreferences]\r\n",
                "GROUP BY\r\n",
                "    product_category,\r\n",
                "    product_preference\r\n",
                "ORDER BY\r\n",
                "    product_category,\r\n",
                "    product_preference;\r\n",
                "'''\r\n",
                "\r\n",
                "# Use the engine to connect and execute the query\r\n",
                "df = pd.read_sql_query(query, engine)"
            ],
            "metadata": {
                "language": "python",
                "azdata_cell_guid": "1ea3ad7d-ad4c-4f8a-bc9b-980646d641ba"
            },
            "outputs": [],
            "execution_count": 79
        },
        {
            "cell_type": "code",
            "source": [
                "# Display the DataFrame\r\n",
                "df.head(10)"
            ],
            "metadata": {
                "language": "python",
                "azdata_cell_guid": "fc5e5819-0b01-4837-9a00-43c24a11b213",
                "tags": []
            },
            "outputs": [
                {
                    "output_type": "execute_result",
                    "execution_count": 80,
                    "data": {
                        "text/plain": "  product_category product_preference  preference_count\n0           Beauty           Haircare                10\n1           Beauty             Makeup                10\n2           Beauty            Perfume                 8\n3           Beauty           Skincare                10\n4         Clothing            Dresses                10\n5         Clothing            Hoodies                 8\n6         Clothing              Jeans                 2\n7         Clothing              Shoes                10\n8         Clothing              Suits                 8\n9         Clothing           T-Shirts                 2",
                        "text/html": "<div>\n<style scoped>\n    .dataframe tbody tr th:only-of-type {\n        vertical-align: middle;\n    }\n\n    .dataframe tbody tr th {\n        vertical-align: top;\n    }\n\n    .dataframe thead th {\n        text-align: right;\n    }\n</style>\n<table border=\"1\" class=\"dataframe\">\n  <thead>\n    <tr style=\"text-align: right;\">\n      <th></th>\n      <th>product_category</th>\n      <th>product_preference</th>\n      <th>preference_count</th>\n    </tr>\n  </thead>\n  <tbody>\n    <tr>\n      <th>0</th>\n      <td>Beauty</td>\n      <td>Haircare</td>\n      <td>10</td>\n    </tr>\n    <tr>\n      <th>1</th>\n      <td>Beauty</td>\n      <td>Makeup</td>\n      <td>10</td>\n    </tr>\n    <tr>\n      <th>2</th>\n      <td>Beauty</td>\n      <td>Perfume</td>\n      <td>8</td>\n    </tr>\n    <tr>\n      <th>3</th>\n      <td>Beauty</td>\n      <td>Skincare</td>\n      <td>10</td>\n    </tr>\n    <tr>\n      <th>4</th>\n      <td>Clothing</td>\n      <td>Dresses</td>\n      <td>10</td>\n    </tr>\n    <tr>\n      <th>5</th>\n      <td>Clothing</td>\n      <td>Hoodies</td>\n      <td>8</td>\n    </tr>\n    <tr>\n      <th>6</th>\n      <td>Clothing</td>\n      <td>Jeans</td>\n      <td>2</td>\n    </tr>\n    <tr>\n      <th>7</th>\n      <td>Clothing</td>\n      <td>Shoes</td>\n      <td>10</td>\n    </tr>\n    <tr>\n      <th>8</th>\n      <td>Clothing</td>\n      <td>Suits</td>\n      <td>8</td>\n    </tr>\n    <tr>\n      <th>9</th>\n      <td>Clothing</td>\n      <td>T-Shirts</td>\n      <td>2</td>\n    </tr>\n  </tbody>\n</table>\n</div>"
                    },
                    "metadata": {}
                }
            ],
            "execution_count": 80
        },
        {
            "cell_type": "markdown",
            "source": [
                "## **Step 4:** **Handle Missing Values**"
            ],
            "metadata": {
                "azdata_cell_guid": "a9e2e855-a32d-4cc1-bf67-b4352dc29d20"
            },
            "attachments": {}
        },
        {
            "cell_type": "code",
            "source": [
                "# Fill missing numerical values with the median\r\n",
                "df['preference_count'] = df['preference_count'].fillna(df['preference_count'].median())\r\n",
                "\r\n",
                "# Fill missing categorical values with the mode (most common category)\r\n",
                "df['product_category'] = df['product_category'].fillna(df['product_category'].mode()[0])\r\n",
                "df['product_preference'] = df['product_preference'].fillna(df['product_preference'].mode()[0])"
            ],
            "metadata": {
                "language": "python",
                "azdata_cell_guid": "376362a8-7411-4949-a775-ca4d254a4fb9"
            },
            "outputs": [],
            "execution_count": 81
        },
        {
            "cell_type": "markdown",
            "source": [
                "## **Step 5:** **Correct Data Types**"
            ],
            "metadata": {
                "azdata_cell_guid": "5992470d-6812-41df-89e0-67190eeb69f8"
            },
            "attachments": {}
        },
        {
            "cell_type": "code",
            "source": [
                "# Preference count should be integer\r\n",
                "df['preference_count'] = df['preference_count'].astype(int)\r\n",
                "\r\n",
                "# Categorical variables converted to category type to save memory\r\n",
                "df['product_category'] = df['product_category'].astype('category')\r\n",
                "df['product_preference'] = df['product_preference'].astype('category')"
            ],
            "metadata": {
                "azdata_cell_guid": "d90f2d3f-d47e-4df3-974c-f4718824e580",
                "language": "python",
                "tags": []
            },
            "outputs": [],
            "execution_count": 82
        },
        {
            "cell_type": "markdown",
            "source": [
                "## **Step 6:** **Remove Duplicates**"
            ],
            "metadata": {
                "language": "python",
                "azdata_cell_guid": "85c274db-f314-4bef-b8cf-d649f36b413b"
            },
            "attachments": {}
        },
        {
            "cell_type": "code",
            "source": [
                "df = df.drop_duplicates()"
            ],
            "metadata": {
                "language": "python",
                "azdata_cell_guid": "f688bece-ee7b-480f-80d3-e7bfbb5cc0bb",
                "tags": []
            },
            "outputs": [],
            "execution_count": 83
        },
        {
            "cell_type": "markdown",
            "source": [
                "## **Step 7:** **Feature Engineering**"
            ],
            "metadata": {
                "language": "python",
                "azdata_cell_guid": "50741d40-514e-40d8-8a53-82b52b9a74b8"
            },
            "attachments": {}
        },
        {
            "cell_type": "code",
            "source": [
                "# Create a feature indicating high preference (preference_count > 3)\r\n",
                "df['high_preference'] = df['preference_count'] > 3"
            ],
            "metadata": {
                "language": "python",
                "azdata_cell_guid": "cd33bdd6-e370-46a5-8ff2-68491873f579",
                "tags": []
            },
            "outputs": [],
            "execution_count": 84
        },
        {
            "cell_type": "code",
            "source": [
                "# Display the DataFrame\r\n",
                "df.head(10)"
            ],
            "metadata": {
                "language": "python",
                "azdata_cell_guid": "c8dede2b-66dd-4304-925e-64d786914f30"
            },
            "outputs": [
                {
                    "output_type": "execute_result",
                    "execution_count": 85,
                    "data": {
                        "text/plain": "  product_category product_preference  preference_count  high_preference\n0           Beauty           Haircare                10             True\n1           Beauty             Makeup                10             True\n2           Beauty            Perfume                 8             True\n3           Beauty           Skincare                10             True\n4         Clothing            Dresses                10             True\n5         Clothing            Hoodies                 8             True\n6         Clothing              Jeans                 2            False\n7         Clothing              Shoes                10             True\n8         Clothing              Suits                 8             True\n9         Clothing           T-Shirts                 2            False",
                        "text/html": "<div>\n<style scoped>\n    .dataframe tbody tr th:only-of-type {\n        vertical-align: middle;\n    }\n\n    .dataframe tbody tr th {\n        vertical-align: top;\n    }\n\n    .dataframe thead th {\n        text-align: right;\n    }\n</style>\n<table border=\"1\" class=\"dataframe\">\n  <thead>\n    <tr style=\"text-align: right;\">\n      <th></th>\n      <th>product_category</th>\n      <th>product_preference</th>\n      <th>preference_count</th>\n      <th>high_preference</th>\n    </tr>\n  </thead>\n  <tbody>\n    <tr>\n      <th>0</th>\n      <td>Beauty</td>\n      <td>Haircare</td>\n      <td>10</td>\n      <td>True</td>\n    </tr>\n    <tr>\n      <th>1</th>\n      <td>Beauty</td>\n      <td>Makeup</td>\n      <td>10</td>\n      <td>True</td>\n    </tr>\n    <tr>\n      <th>2</th>\n      <td>Beauty</td>\n      <td>Perfume</td>\n      <td>8</td>\n      <td>True</td>\n    </tr>\n    <tr>\n      <th>3</th>\n      <td>Beauty</td>\n      <td>Skincare</td>\n      <td>10</td>\n      <td>True</td>\n    </tr>\n    <tr>\n      <th>4</th>\n      <td>Clothing</td>\n      <td>Dresses</td>\n      <td>10</td>\n      <td>True</td>\n    </tr>\n    <tr>\n      <th>5</th>\n      <td>Clothing</td>\n      <td>Hoodies</td>\n      <td>8</td>\n      <td>True</td>\n    </tr>\n    <tr>\n      <th>6</th>\n      <td>Clothing</td>\n      <td>Jeans</td>\n      <td>2</td>\n      <td>False</td>\n    </tr>\n    <tr>\n      <th>7</th>\n      <td>Clothing</td>\n      <td>Shoes</td>\n      <td>10</td>\n      <td>True</td>\n    </tr>\n    <tr>\n      <th>8</th>\n      <td>Clothing</td>\n      <td>Suits</td>\n      <td>8</td>\n      <td>True</td>\n    </tr>\n    <tr>\n      <th>9</th>\n      <td>Clothing</td>\n      <td>T-Shirts</td>\n      <td>2</td>\n      <td>False</td>\n    </tr>\n  </tbody>\n</table>\n</div>"
                    },
                    "metadata": {}
                }
            ],
            "execution_count": 85
        },
        {
            "cell_type": "markdown",
            "source": [
                "## **Step 8:** **Export Prepared Data for Power BI**"
            ],
            "metadata": {
                "azdata_cell_guid": "fd660065-ab04-4d9d-a9b2-6584d33c7859"
            },
            "attachments": {}
        },
        {
            "cell_type": "code",
            "source": [
                "df.to_csv('preprocessed_for_power_bi.csv', index=False)"
            ],
            "metadata": {
                "azdata_cell_guid": "edc73f92-1224-428b-9d0d-33341e6a3015",
                "language": "python"
            },
            "outputs": [],
            "execution_count": 86
        }
    ]
}